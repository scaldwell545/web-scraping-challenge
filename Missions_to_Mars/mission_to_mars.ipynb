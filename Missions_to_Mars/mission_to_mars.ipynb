{
 "cells": [
  {
   "cell_type": "code",
   "execution_count": 1,
   "metadata": {},
   "outputs": [],
   "source": [
    "## Dependencies\n",
    "from splinter import Browser\n",
    "from bs4 import BeautifulSoup as bs\n",
    "from webdriver_manager.chrome import ChromeDriverManager"
   ]
  },
  {
   "cell_type": "code",
   "execution_count": 2,
   "metadata": {},
   "outputs": [],
   "source": [
    "## Make path for chrome driver exe and open\n",
    "driver_path = r'C:\\Users\\sceli\\.wdm\\drivers\\chromedriver\\win32\\92.0.4515.107\\chromedriver.exe'\n",
    "browser = Browser('chrome', executable_path = driver_path, headless = False)"
   ]
  },
  {
   "cell_type": "code",
   "execution_count": 3,
   "metadata": {},
   "outputs": [],
   "source": [
    "## Visit the Mars news url\n",
    "url = \"https://redplanetscience.com/\"\n",
    "browser.visit(url)\n",
    "\n",
    "## Pull html into beautiful soup parser\n",
    "html = browser.html\n",
    "soup = bs(html,'html.parser')"
   ]
  },
  {
   "cell_type": "code",
   "execution_count": 4,
   "metadata": {},
   "outputs": [
    {
     "name": "stdout",
     "output_type": "stream",
     "text": [
      "Meet the People Behind NASA's Perseverance Rover\n",
      "These are the scientists and engineers who built NASA's next Mars rover and who will guide it to a safe landing in Jezero Crater. \n"
     ]
    }
   ],
   "source": [
    "## Find the News Title and Paragraph Text. Assign the text to variables that you can reference later\n",
    "news_title = soup.find_all(\"div\", class_=\"content_title\")[0].get_text()\n",
    "news_p = soup.find_all(\"div\", class_=\"article_teaser_body\")[0].get_text()\n",
    "print(news_title)\n",
    "print(news_p)"
   ]
  },
  {
   "cell_type": "code",
   "execution_count": 5,
   "metadata": {},
   "outputs": [],
   "source": [
    "## Visit the JPL Featured Image url\n",
    "url = \"https://spaceimages-mars.com/\"\n",
    "browser.visit(url)\n",
    "\n",
    "## Pull html into beautiful soup parser\n",
    "html = browser.html\n",
    "soup = bs(html,'html.parser')"
   ]
  },
  {
   "cell_type": "code",
   "execution_count": 6,
   "metadata": {},
   "outputs": [
    {
     "name": "stdout",
     "output_type": "stream",
     "text": [
      "https://spaceimages-mars.com/image/featured/mars1.jpg\n"
     ]
    }
   ],
   "source": [
    "## Find the url of the featured image\n",
    "image = soup.find(\"img\", class_=\"headerimage fade-in\")['src']\n",
    "featured_image_url = url + image\n",
    "print(featured_image_url)"
   ]
  },
  {
   "cell_type": "code",
   "execution_count": 7,
   "metadata": {},
   "outputs": [],
   "source": [
    "## Visit the Mars Facts url\n",
    "url = \"https://galaxyfacts-mars.com/\"\n",
    "browser.visit(url)\n",
    "\n",
    "## Pull html into beautiful soup parser\n",
    "html = browser.html\n",
    "soup = bs(html,'html.parser')"
   ]
  },
  {
   "cell_type": "code",
   "execution_count": 8,
   "metadata": {},
   "outputs": [
    {
     "name": "stdout",
     "output_type": "stream",
     "text": [
      "<table class=\"table table-striped\">\n",
      " <tbody>\n",
      "  <tr>\n",
      "   <th scope=\"row\">\n",
      "    Equatorial Diameter:\n",
      "   </th>\n",
      "   <td>\n",
      "    6,792 km\n",
      "   </td>\n",
      "  </tr>\n",
      "  <tr>\n",
      "   <th scope=\"row\">\n",
      "    Polar Diameter:\n",
      "   </th>\n",
      "   <td>\n",
      "    6,752 km\n",
      "   </td>\n",
      "  </tr>\n",
      "  <tr>\n",
      "   <th scope=\"row\">\n",
      "    Mass:\n",
      "   </th>\n",
      "   <td>\n",
      "    6.39 × 10^23 kg (0.11 Earths)\n",
      "   </td>\n",
      "  </tr>\n",
      "  <tr>\n",
      "   <th scope=\"row\">\n",
      "    Moons:\n",
      "   </th>\n",
      "   <td>\n",
      "    2 (\n",
      "    <span class=\"red\">\n",
      "     Phobos\n",
      "    </span>\n",
      "    &amp;\n",
      "    <span class=\"red\">\n",
      "     Deimos\n",
      "    </span>\n",
      "    )\n",
      "   </td>\n",
      "  </tr>\n",
      "  <tr>\n",
      "   <th scope=\"row\">\n",
      "    Orbit Distance:\n",
      "   </th>\n",
      "   <td>\n",
      "    227,943,824 km (1.38 AU)\n",
      "   </td>\n",
      "  </tr>\n",
      "  <tr>\n",
      "   <th scope=\"row\">\n",
      "    Orbit Period:\n",
      "   </th>\n",
      "   <td>\n",
      "    687 days (1.9 years)\n",
      "   </td>\n",
      "  </tr>\n",
      "  <tr>\n",
      "   <th scope=\"row\">\n",
      "    Surface Temperature:\n",
      "   </th>\n",
      "   <td>\n",
      "    -87 to -5 °C\n",
      "   </td>\n",
      "  </tr>\n",
      "  <tr>\n",
      "   <th scope=\"row\">\n",
      "    First Record:\n",
      "   </th>\n",
      "   <td>\n",
      "    2nd millennium BC\n",
      "   </td>\n",
      "  </tr>\n",
      "  <tr>\n",
      "   <th scope=\"row\">\n",
      "    Recorded By:\n",
      "   </th>\n",
      "   <td>\n",
      "    Egyptian astronomers\n",
      "   </td>\n",
      "  </tr>\n",
      " </tbody>\n",
      "</table>\n",
      "\n"
     ]
    }
   ],
   "source": [
    "## Scrape the table containing facts about the planet including Diameter, Mass, etc.\n",
    "table = soup.find(\"table\", class_=\"table table-striped\").prettify()\n",
    "print(table)"
   ]
  },
  {
   "cell_type": "code",
   "execution_count": 9,
   "metadata": {},
   "outputs": [],
   "source": [
    "## Visit the astrogeology url\n",
    "url = \"https://marshemispheres.com/\"\n",
    "browser.visit(url)\n",
    "\n",
    "## Pull html into beautiful soup parser\n",
    "html = browser.html\n",
    "soup = bs(html,'html.parser')"
   ]
  },
  {
   "cell_type": "code",
   "execution_count": 10,
   "metadata": {},
   "outputs": [],
   "source": [
    "## Get image urls\n",
    "hemisphere_image_urls = []\n",
    "hem_info = soup.find_all(\"div\", class_=\"description\")"
   ]
  },
  {
   "cell_type": "code",
   "execution_count": 11,
   "metadata": {},
   "outputs": [],
   "source": [
    "## loop through hem_info entries to get img urls and names\n",
    "for hem in hem_info:\n",
    "    ## get name of hemisphere\n",
    "    hem_name = hem.find('h3').get_text()\n",
    "    ## get href of hemisphere\n",
    "    hem_url = hem.find('a', class_=\"itemLink product-item\")['href']\n",
    "    hem_image_url = url + hem_url\n",
    "    ## navigate to image url and pull into beautiful soup\n",
    "    browser.visit(hem_image_url)\n",
    "    html = browser.html\n",
    "    soup = bs(html,'html.parser')\n",
    "    ## get image src\n",
    "    img_src = soup.find('img', class_=\"wide-image\")['src']\n",
    "    ## create image link\n",
    "    img_url = url + img_src\n",
    "    ## now add into dictionary\n",
    "    hem_dict = {\n",
    "        'title' : hem_name,\n",
    "        'img_url' : img_url\n",
    "    }\n",
    "    hemisphere_image_urls.append(hem_dict)"
   ]
  },
  {
   "cell_type": "code",
   "execution_count": 12,
   "metadata": {},
   "outputs": [
    {
     "data": {
      "text/plain": [
       "[{'title': 'Cerberus Hemisphere Enhanced',\n",
       "  'img_url': 'https://marshemispheres.com/images/f5e372a36edfa389625da6d0cc25d905_cerberus_enhanced.tif_full.jpg'},\n",
       " {'title': 'Schiaparelli Hemisphere Enhanced',\n",
       "  'img_url': 'https://marshemispheres.com/images/3778f7b43bbbc89d6e3cfabb3613ba93_schiaparelli_enhanced.tif_full.jpg'},\n",
       " {'title': 'Syrtis Major Hemisphere Enhanced',\n",
       "  'img_url': 'https://marshemispheres.com/images/555e6403a6ddd7ba16ddb0e471cadcf7_syrtis_major_enhanced.tif_full.jpg'},\n",
       " {'title': 'Valles Marineris Hemisphere Enhanced',\n",
       "  'img_url': 'https://marshemispheres.com/images/b3c7c6c9138f57b4756be9b9c43e3a48_valles_marineris_enhanced.tif_full.jpg'}]"
      ]
     },
     "execution_count": 12,
     "metadata": {},
     "output_type": "execute_result"
    }
   ],
   "source": [
    "hemisphere_image_urls"
   ]
  },
  {
   "cell_type": "code",
   "execution_count": null,
   "metadata": {},
   "outputs": [],
   "source": []
  },
  {
   "cell_type": "code",
   "execution_count": null,
   "metadata": {},
   "outputs": [],
   "source": []
  }
 ],
 "metadata": {
  "kernelspec": {
   "display_name": "Python 3",
   "language": "python",
   "name": "python3"
  },
  "language_info": {
   "codemirror_mode": {
    "name": "ipython",
    "version": 3
   },
   "file_extension": ".py",
   "mimetype": "text/x-python",
   "name": "python",
   "nbconvert_exporter": "python",
   "pygments_lexer": "ipython3",
   "version": "3.8.5"
  }
 },
 "nbformat": 4,
 "nbformat_minor": 4
}
